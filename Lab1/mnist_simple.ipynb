{
 "cells": [
  {
   "cell_type": "code",
   "execution_count": 2,
   "metadata": {},
   "outputs": [
    {
     "name": "stderr",
     "output_type": "stream",
     "text": [
      "C:\\Users\\dayan\\AppData\\Local\\Continuum\\anaconda3\\lib\\site-packages\\h5py\\__init__.py:36: FutureWarning: Conversion of the second argument of issubdtype from `float` to `np.floating` is deprecated. In future, it will be treated as `np.float64 == np.dtype(float).type`.\n",
      "  from ._conv import register_converters as _register_converters\n",
      "Using TensorFlow backend.\n"
     ]
    }
   ],
   "source": [
    "import numpy as np\n",
    "from sklearn.preprocessing import StandardScaler\n",
    "from keras.datasets import mnist\n",
    "from keras.models import Sequential\n",
    "from keras.layers import Dense\n",
    "from keras.utils import np_utils"
   ]
  },
  {
   "cell_type": "code",
   "execution_count": 3,
   "metadata": {},
   "outputs": [
    {
     "data": {
      "text/plain": [
       "'2.2.4'"
      ]
     },
     "execution_count": 3,
     "metadata": {},
     "output_type": "execute_result"
    }
   ],
   "source": [
    "import keras\n",
    "keras.__version__"
   ]
  },
  {
   "cell_type": "code",
   "execution_count": 4,
   "metadata": {},
   "outputs": [],
   "source": [
    "np.random.seed(42)"
   ]
  },
  {
   "cell_type": "code",
   "execution_count": 5,
   "metadata": {},
   "outputs": [],
   "source": [
    "(X_train, y_train), (X_test, y_test) = mnist.load_data()"
   ]
  },
  {
   "cell_type": "markdown",
   "metadata": {},
   "source": [
    "Картинки 28х28, развернем каждую в вектор длины 784."
   ]
  },
  {
   "cell_type": "code",
   "execution_count": 6,
   "metadata": {},
   "outputs": [
    {
     "data": {
      "text/plain": [
       "((60000, 28, 28), (10000, 28, 28))"
      ]
     },
     "execution_count": 6,
     "metadata": {},
     "output_type": "execute_result"
    }
   ],
   "source": [
    "X_train.shape, X_test.shape"
   ]
  },
  {
   "cell_type": "code",
   "execution_count": 7,
   "metadata": {},
   "outputs": [],
   "source": [
    "X_train = X_train.reshape(X_train.shape[0], 784).astype('float32')\n",
    "X_test = X_test.reshape(X_test.shape[0], 784).astype('float32')"
   ]
  },
  {
   "cell_type": "markdown",
   "metadata": {},
   "source": [
    "Масштабируем данные."
   ]
  },
  {
   "cell_type": "code",
   "execution_count": 8,
   "metadata": {
    "scrolled": true
   },
   "outputs": [],
   "source": [
    "scaler = StandardScaler()\n",
    "\n",
    "X_train_scaled = scaler.fit_transform(X_train)\n",
    "X_test_scaled = scaler.transform(X_test)\n"
   ]
  },
  {
   "cell_type": "code",
   "execution_count": 9,
   "metadata": {},
   "outputs": [
    {
     "data": {
      "text/plain": [
       "0.03932727"
      ]
     },
     "execution_count": 9,
     "metadata": {},
     "output_type": "execute_result"
    }
   ],
   "source": [
    "X_train_scaled[1].mean()"
   ]
  },
  {
   "cell_type": "code",
   "execution_count": 10,
   "metadata": {},
   "outputs": [],
   "source": [
    "y_train = np_utils.to_categorical(y_train, 10)\n",
    "y_test = np_utils.to_categorical(y_test, 10)"
   ]
  },
  {
   "cell_type": "code",
   "execution_count": 11,
   "metadata": {},
   "outputs": [
    {
     "data": {
      "text/plain": [
       "array([[0., 0., 0., 0., 0., 1., 0., 0., 0., 0.],\n",
       "       [1., 0., 0., 0., 0., 0., 0., 0., 0., 0.],\n",
       "       [0., 0., 0., 0., 1., 0., 0., 0., 0., 0.]], dtype=float32)"
      ]
     },
     "execution_count": 11,
     "metadata": {},
     "output_type": "execute_result"
    }
   ],
   "source": [
    "y_train[:3, :]"
   ]
  },
  {
   "cell_type": "code",
   "execution_count": 12,
   "metadata": {},
   "outputs": [],
   "source": [
    "model = Sequential()"
   ]
  },
  {
   "cell_type": "code",
   "execution_count": 13,
   "metadata": {},
   "outputs": [],
   "source": [
    "model.add(Dense(50, input_dim=784, kernel_initializer='normal', activation='relu'))"
   ]
  },
  {
   "cell_type": "code",
   "execution_count": 14,
   "metadata": {},
   "outputs": [],
   "source": [
    "model.add(Dense(20, input_dim=50, kernel_initializer='normal', activation='relu'))"
   ]
  },
  {
   "cell_type": "code",
   "execution_count": 15,
   "metadata": {},
   "outputs": [],
   "source": [
    "model.add(Dense(10, kernel_initializer='normal', activation='softmax'))"
   ]
  },
  {
   "cell_type": "code",
   "execution_count": 16,
   "metadata": {},
   "outputs": [],
   "source": [
    "model.compile(loss='categorical_crossentropy', optimizer='SGD', metrics=['accuracy'])"
   ]
  },
  {
   "cell_type": "code",
   "execution_count": 17,
   "metadata": {},
   "outputs": [
    {
     "name": "stdout",
     "output_type": "stream",
     "text": [
      "_________________________________________________________________\n",
      "Layer (type)                 Output Shape              Param #   \n",
      "=================================================================\n",
      "dense_1 (Dense)              (None, 50)                39250     \n",
      "_________________________________________________________________\n",
      "dense_2 (Dense)              (None, 20)                1020      \n",
      "_________________________________________________________________\n",
      "dense_3 (Dense)              (None, 10)                210       \n",
      "=================================================================\n",
      "Total params: 40,480\n",
      "Trainable params: 40,480\n",
      "Non-trainable params: 0\n",
      "_________________________________________________________________\n",
      "None\n"
     ]
    }
   ],
   "source": [
    "print(model.summary())"
   ]
  },
  {
   "cell_type": "markdown",
   "metadata": {},
   "source": [
    "Визуализация модели (нужно выполнить pip install pydot-ng)"
   ]
  },
  {
   "cell_type": "code",
   "execution_count": 18,
   "metadata": {
    "scrolled": true
   },
   "outputs": [
    {
     "data": {
      "image/svg+xml": [
       "<svg height=\"294pt\" viewBox=\"0.00 0.00 251.00 294.00\" width=\"251pt\" xmlns=\"http://www.w3.org/2000/svg\" xmlns:xlink=\"http://www.w3.org/1999/xlink\">\n",
       "<g class=\"graph\" id=\"graph0\" transform=\"scale(1 1) rotate(0) translate(4 290)\">\n",
       "<title>G</title>\n",
       "<polygon fill=\"white\" points=\"-4,4 -4,-290 247,-290 247,4 -4,4\" stroke=\"none\"/>\n",
       "<!-- 1268588002104 -->\n",
       "<g class=\"node\" id=\"node1\"><title>1268588002104</title>\n",
       "<polygon fill=\"none\" points=\"0,-166.5 0,-212.5 243,-212.5 243,-166.5 0,-166.5\" stroke=\"black\"/>\n",
       "<text font-family=\"Times New Roman,serif\" font-size=\"14.00\" text-anchor=\"middle\" x=\"52\" y=\"-185.8\">dense_1: Dense</text>\n",
       "<polyline fill=\"none\" points=\"104,-166.5 104,-212.5 \" stroke=\"black\"/>\n",
       "<text font-family=\"Times New Roman,serif\" font-size=\"14.00\" text-anchor=\"middle\" x=\"132\" y=\"-197.3\">input:</text>\n",
       "<polyline fill=\"none\" points=\"104,-189.5 160,-189.5 \" stroke=\"black\"/>\n",
       "<text font-family=\"Times New Roman,serif\" font-size=\"14.00\" text-anchor=\"middle\" x=\"132\" y=\"-174.3\">output:</text>\n",
       "<polyline fill=\"none\" points=\"160,-166.5 160,-212.5 \" stroke=\"black\"/>\n",
       "<text font-family=\"Times New Roman,serif\" font-size=\"14.00\" text-anchor=\"middle\" x=\"201.5\" y=\"-197.3\">(None, 784)</text>\n",
       "<polyline fill=\"none\" points=\"160,-189.5 243,-189.5 \" stroke=\"black\"/>\n",
       "<text font-family=\"Times New Roman,serif\" font-size=\"14.00\" text-anchor=\"middle\" x=\"201.5\" y=\"-174.3\">(None, 50)</text>\n",
       "</g>\n",
       "<!-- 1268588002664 -->\n",
       "<g class=\"node\" id=\"node2\"><title>1268588002664</title>\n",
       "<polygon fill=\"none\" points=\"3,-83.5 3,-129.5 240,-129.5 240,-83.5 3,-83.5\" stroke=\"black\"/>\n",
       "<text font-family=\"Times New Roman,serif\" font-size=\"14.00\" text-anchor=\"middle\" x=\"55\" y=\"-102.8\">dense_2: Dense</text>\n",
       "<polyline fill=\"none\" points=\"107,-83.5 107,-129.5 \" stroke=\"black\"/>\n",
       "<text font-family=\"Times New Roman,serif\" font-size=\"14.00\" text-anchor=\"middle\" x=\"135\" y=\"-114.3\">input:</text>\n",
       "<polyline fill=\"none\" points=\"107,-106.5 163,-106.5 \" stroke=\"black\"/>\n",
       "<text font-family=\"Times New Roman,serif\" font-size=\"14.00\" text-anchor=\"middle\" x=\"135\" y=\"-91.3\">output:</text>\n",
       "<polyline fill=\"none\" points=\"163,-83.5 163,-129.5 \" stroke=\"black\"/>\n",
       "<text font-family=\"Times New Roman,serif\" font-size=\"14.00\" text-anchor=\"middle\" x=\"201.5\" y=\"-114.3\">(None, 50)</text>\n",
       "<polyline fill=\"none\" points=\"163,-106.5 240,-106.5 \" stroke=\"black\"/>\n",
       "<text font-family=\"Times New Roman,serif\" font-size=\"14.00\" text-anchor=\"middle\" x=\"201.5\" y=\"-91.3\">(None, 20)</text>\n",
       "</g>\n",
       "<!-- 1268588002104&#45;&gt;1268588002664 -->\n",
       "<g class=\"edge\" id=\"edge2\"><title>1268588002104-&gt;1268588002664</title>\n",
       "<path d=\"M121.5,-166.366C121.5,-158.152 121.5,-148.658 121.5,-139.725\" fill=\"none\" stroke=\"black\"/>\n",
       "<polygon fill=\"black\" points=\"125,-139.607 121.5,-129.607 118,-139.607 125,-139.607\" stroke=\"black\"/>\n",
       "</g>\n",
       "<!-- 1268588001992 -->\n",
       "<g class=\"node\" id=\"node3\"><title>1268588001992</title>\n",
       "<polygon fill=\"none\" points=\"3,-0.5 3,-46.5 240,-46.5 240,-0.5 3,-0.5\" stroke=\"black\"/>\n",
       "<text font-family=\"Times New Roman,serif\" font-size=\"14.00\" text-anchor=\"middle\" x=\"55\" y=\"-19.8\">dense_3: Dense</text>\n",
       "<polyline fill=\"none\" points=\"107,-0.5 107,-46.5 \" stroke=\"black\"/>\n",
       "<text font-family=\"Times New Roman,serif\" font-size=\"14.00\" text-anchor=\"middle\" x=\"135\" y=\"-31.3\">input:</text>\n",
       "<polyline fill=\"none\" points=\"107,-23.5 163,-23.5 \" stroke=\"black\"/>\n",
       "<text font-family=\"Times New Roman,serif\" font-size=\"14.00\" text-anchor=\"middle\" x=\"135\" y=\"-8.3\">output:</text>\n",
       "<polyline fill=\"none\" points=\"163,-0.5 163,-46.5 \" stroke=\"black\"/>\n",
       "<text font-family=\"Times New Roman,serif\" font-size=\"14.00\" text-anchor=\"middle\" x=\"201.5\" y=\"-31.3\">(None, 20)</text>\n",
       "<polyline fill=\"none\" points=\"163,-23.5 240,-23.5 \" stroke=\"black\"/>\n",
       "<text font-family=\"Times New Roman,serif\" font-size=\"14.00\" text-anchor=\"middle\" x=\"201.5\" y=\"-8.3\">(None, 10)</text>\n",
       "</g>\n",
       "<!-- 1268588002664&#45;&gt;1268588001992 -->\n",
       "<g class=\"edge\" id=\"edge3\"><title>1268588002664-&gt;1268588001992</title>\n",
       "<path d=\"M121.5,-83.3664C121.5,-75.1516 121.5,-65.6579 121.5,-56.7252\" fill=\"none\" stroke=\"black\"/>\n",
       "<polygon fill=\"black\" points=\"125,-56.6068 121.5,-46.6068 118,-56.6069 125,-56.6068\" stroke=\"black\"/>\n",
       "</g>\n",
       "<!-- 1268588002272 -->\n",
       "<g class=\"node\" id=\"node4\"><title>1268588002272</title>\n",
       "<polygon fill=\"none\" points=\"69.5,-249.5 69.5,-285.5 173.5,-285.5 173.5,-249.5 69.5,-249.5\" stroke=\"black\"/>\n",
       "<text font-family=\"Times New Roman,serif\" font-size=\"14.00\" text-anchor=\"middle\" x=\"121.5\" y=\"-263.8\">1268588002272</text>\n",
       "</g>\n",
       "<!-- 1268588002272&#45;&gt;1268588002104 -->\n",
       "<g class=\"edge\" id=\"edge1\"><title>1268588002272-&gt;1268588002104</title>\n",
       "<path d=\"M121.5,-249.254C121.5,-241.363 121.5,-231.749 121.5,-222.602\" fill=\"none\" stroke=\"black\"/>\n",
       "<polygon fill=\"black\" points=\"125,-222.591 121.5,-212.591 118,-222.591 125,-222.591\" stroke=\"black\"/>\n",
       "</g>\n",
       "</g>\n",
       "</svg>"
      ],
      "text/plain": [
       "<IPython.core.display.SVG object>"
      ]
     },
     "execution_count": 18,
     "metadata": {},
     "output_type": "execute_result"
    }
   ],
   "source": [
    "from IPython.display import SVG\n",
    "from keras.utils.vis_utils import model_to_dot\n",
    "\n",
    "SVG(model_to_dot(model, show_shapes=True).create(prog='dot', format='svg'))"
   ]
  },
  {
   "cell_type": "markdown",
   "metadata": {},
   "source": [
    "## Callbacks\n",
    "### Ранняя остановка\n",
    "Нужно также сказать несколько слов о такой важной особенности Keras, как колбеки. Через них реализовано много полезной функциональности. Например, если вы тренируете сеть в течение очень долгого времени, вам нужно понять, когда пора остановиться, если ошибка на вашем датасете перестала уменьшаться. По-английски описываемая функциональность называется \"early stopping\" (\"ранняя остановка\")."
   ]
  },
  {
   "cell_type": "code",
   "execution_count": 19,
   "metadata": {},
   "outputs": [],
   "source": [
    "from keras.callbacks import EarlyStopping  \n",
    "early_stopping = EarlyStopping(monitor='loss')"
   ]
  },
  {
   "cell_type": "markdown",
   "metadata": {},
   "source": [
    "### Tensorboard\n",
    "Еще в качестве колбека можно использовать сохранение логов в формате, удобном для Tensorboard — это специальная утилита для обработки и визуализации информации из логов Tensorflow.\n",
    "После того, как обучение закончится (или даже в процессе!), вы можете запустить Tensorboard, указав абсолютный путь к директории с логами:\n",
    "tensorboard --logdir=/path/to/logs"
   ]
  },
  {
   "cell_type": "code",
   "execution_count": 20,
   "metadata": {},
   "outputs": [],
   "source": [
    "from keras.callbacks import TensorBoard  \n",
    "tensorboard = TensorBoard(log_dir='../logs/', write_graph=True)"
   ]
  },
  {
   "cell_type": "code",
   "execution_count": 21,
   "metadata": {
    "scrolled": true
   },
   "outputs": [
    {
     "name": "stdout",
     "output_type": "stream",
     "text": [
      "Train on 48000 samples, validate on 12000 samples\n",
      "Epoch 1/100\n",
      " - 1s - loss: 2.2816 - acc: 0.1537 - val_loss: 2.2508 - val_acc: 0.2559\n",
      "Epoch 2/100\n",
      " - 1s - loss: 2.1711 - acc: 0.3058 - val_loss: 2.0261 - val_acc: 0.3411\n",
      "Epoch 3/100\n",
      " - 1s - loss: 1.7798 - acc: 0.4024 - val_loss: 1.4778 - val_acc: 0.5560\n",
      "Epoch 4/100\n",
      " - 1s - loss: 1.2072 - acc: 0.6560 - val_loss: 0.9256 - val_acc: 0.7597\n",
      "Epoch 5/100\n",
      " - 1s - loss: 0.7948 - acc: 0.7842 - val_loss: 0.6469 - val_acc: 0.8314\n",
      "Epoch 6/100\n",
      " - 1s - loss: 0.6005 - acc: 0.8340 - val_loss: 0.5137 - val_acc: 0.8602\n",
      "Epoch 7/100\n",
      " - 1s - loss: 0.4963 - acc: 0.8610 - val_loss: 0.4377 - val_acc: 0.8776\n",
      "Epoch 8/100\n",
      " - 1s - loss: 0.4320 - acc: 0.8777 - val_loss: 0.3904 - val_acc: 0.8891\n",
      "Epoch 9/100\n",
      " - 1s - loss: 0.3891 - acc: 0.8891 - val_loss: 0.3579 - val_acc: 0.8980\n",
      "Epoch 10/100\n",
      " - 1s - loss: 0.3579 - acc: 0.8971 - val_loss: 0.3341 - val_acc: 0.9040\n",
      "Epoch 11/100\n",
      " - 1s - loss: 0.3336 - acc: 0.9038 - val_loss: 0.3148 - val_acc: 0.9071\n",
      "Epoch 12/100\n",
      " - 1s - loss: 0.3136 - acc: 0.9095 - val_loss: 0.2990 - val_acc: 0.9128\n",
      "Epoch 13/100\n",
      " - 1s - loss: 0.2967 - acc: 0.9139 - val_loss: 0.2863 - val_acc: 0.9160\n",
      "Epoch 14/100\n",
      " - 1s - loss: 0.2819 - acc: 0.9188 - val_loss: 0.2739 - val_acc: 0.9194\n",
      "Epoch 15/100\n",
      " - 1s - loss: 0.2689 - acc: 0.9223 - val_loss: 0.2642 - val_acc: 0.9227\n",
      "Epoch 16/100\n",
      " - 1s - loss: 0.2573 - acc: 0.9249 - val_loss: 0.2553 - val_acc: 0.9245\n",
      "Epoch 17/100\n",
      " - 1s - loss: 0.2470 - acc: 0.9281 - val_loss: 0.2474 - val_acc: 0.9268\n",
      "Epoch 18/100\n",
      " - 1s - loss: 0.2376 - acc: 0.9311 - val_loss: 0.2404 - val_acc: 0.9293\n",
      "Epoch 19/100\n",
      " - 1s - loss: 0.2290 - acc: 0.9334 - val_loss: 0.2340 - val_acc: 0.9317\n",
      "Epoch 20/100\n",
      " - 1s - loss: 0.2209 - acc: 0.9358 - val_loss: 0.2281 - val_acc: 0.9333\n",
      "Epoch 21/100\n",
      " - 1s - loss: 0.2136 - acc: 0.9372 - val_loss: 0.2227 - val_acc: 0.9356\n",
      "Epoch 22/100\n",
      " - 1s - loss: 0.2068 - acc: 0.9396 - val_loss: 0.2178 - val_acc: 0.9366\n",
      "Epoch 23/100\n",
      " - 1s - loss: 0.2007 - acc: 0.9417 - val_loss: 0.2133 - val_acc: 0.9377\n",
      "Epoch 24/100\n",
      " - 1s - loss: 0.1949 - acc: 0.9431 - val_loss: 0.2094 - val_acc: 0.9390\n",
      "Epoch 25/100\n",
      " - 1s - loss: 0.1895 - acc: 0.9448 - val_loss: 0.2053 - val_acc: 0.9406\n",
      "Epoch 26/100\n",
      " - 1s - loss: 0.1845 - acc: 0.9461 - val_loss: 0.2025 - val_acc: 0.9416\n",
      "Epoch 27/100\n",
      " - 1s - loss: 0.1797 - acc: 0.9473 - val_loss: 0.1993 - val_acc: 0.9420\n",
      "Epoch 28/100\n",
      " - 1s - loss: 0.1752 - acc: 0.9485 - val_loss: 0.1962 - val_acc: 0.9419\n",
      "Epoch 29/100\n",
      " - 1s - loss: 0.1709 - acc: 0.9498 - val_loss: 0.1936 - val_acc: 0.9424\n",
      "Epoch 30/100\n",
      " - 1s - loss: 0.1670 - acc: 0.9513 - val_loss: 0.1907 - val_acc: 0.9437\n",
      "Epoch 31/100\n",
      " - 1s - loss: 0.1630 - acc: 0.9520 - val_loss: 0.1890 - val_acc: 0.9445\n",
      "Epoch 32/100\n",
      " - 1s - loss: 0.1596 - acc: 0.9533 - val_loss: 0.1863 - val_acc: 0.9456\n",
      "Epoch 33/100\n",
      " - 1s - loss: 0.1561 - acc: 0.9542 - val_loss: 0.1838 - val_acc: 0.9466\n",
      "Epoch 34/100\n",
      " - 1s - loss: 0.1528 - acc: 0.9549 - val_loss: 0.1820 - val_acc: 0.9474\n",
      "Epoch 35/100\n",
      " - 1s - loss: 0.1497 - acc: 0.9560 - val_loss: 0.1798 - val_acc: 0.9480\n",
      "Epoch 36/100\n",
      " - 1s - loss: 0.1467 - acc: 0.9567 - val_loss: 0.1785 - val_acc: 0.9479\n",
      "Epoch 37/100\n",
      " - 1s - loss: 0.1437 - acc: 0.9576 - val_loss: 0.1766 - val_acc: 0.9482\n",
      "Epoch 38/100\n",
      " - 1s - loss: 0.1409 - acc: 0.9583 - val_loss: 0.1753 - val_acc: 0.9489\n",
      "Epoch 39/100\n",
      " - 1s - loss: 0.1383 - acc: 0.9591 - val_loss: 0.1736 - val_acc: 0.9494\n",
      "Epoch 40/100\n",
      " - 1s - loss: 0.1357 - acc: 0.9598 - val_loss: 0.1722 - val_acc: 0.9502\n",
      "Epoch 41/100\n",
      " - 1s - loss: 0.1332 - acc: 0.9606 - val_loss: 0.1712 - val_acc: 0.9504\n",
      "Epoch 42/100\n",
      " - 1s - loss: 0.1309 - acc: 0.9613 - val_loss: 0.1693 - val_acc: 0.9515\n",
      "Epoch 43/100\n",
      " - 1s - loss: 0.1285 - acc: 0.9621 - val_loss: 0.1682 - val_acc: 0.9513\n",
      "Epoch 44/100\n",
      " - 1s - loss: 0.1263 - acc: 0.9628 - val_loss: 0.1672 - val_acc: 0.9518\n",
      "Epoch 45/100\n",
      " - 1s - loss: 0.1242 - acc: 0.9634 - val_loss: 0.1661 - val_acc: 0.9520\n",
      "Epoch 46/100\n",
      " - 1s - loss: 0.1220 - acc: 0.9645 - val_loss: 0.1653 - val_acc: 0.9519\n",
      "Epoch 47/100\n",
      " - 1s - loss: 0.1200 - acc: 0.9647 - val_loss: 0.1642 - val_acc: 0.9523\n",
      "Epoch 48/100\n",
      " - 1s - loss: 0.1181 - acc: 0.9651 - val_loss: 0.1631 - val_acc: 0.9535\n",
      "Epoch 49/100\n",
      " - 1s - loss: 0.1163 - acc: 0.9660 - val_loss: 0.1620 - val_acc: 0.9538\n",
      "Epoch 50/100\n",
      " - 1s - loss: 0.1145 - acc: 0.9667 - val_loss: 0.1616 - val_acc: 0.9533\n",
      "Epoch 51/100\n",
      " - 1s - loss: 0.1127 - acc: 0.9670 - val_loss: 0.1605 - val_acc: 0.9544\n",
      "Epoch 52/100\n",
      " - 1s - loss: 0.1109 - acc: 0.9680 - val_loss: 0.1600 - val_acc: 0.9541\n",
      "Epoch 53/100\n",
      " - 1s - loss: 0.1092 - acc: 0.9683 - val_loss: 0.1592 - val_acc: 0.9542\n",
      "Epoch 54/100\n",
      " - 1s - loss: 0.1076 - acc: 0.9688 - val_loss: 0.1583 - val_acc: 0.9542\n",
      "Epoch 55/100\n",
      " - 1s - loss: 0.1060 - acc: 0.9692 - val_loss: 0.1573 - val_acc: 0.9556\n",
      "Epoch 56/100\n",
      " - 1s - loss: 0.1044 - acc: 0.9700 - val_loss: 0.1571 - val_acc: 0.9551\n",
      "Epoch 57/100\n",
      " - 1s - loss: 0.1029 - acc: 0.9702 - val_loss: 0.1568 - val_acc: 0.9553\n",
      "Epoch 58/100\n",
      " - 1s - loss: 0.1015 - acc: 0.9705 - val_loss: 0.1560 - val_acc: 0.9555\n",
      "Epoch 59/100\n",
      " - 1s - loss: 0.1000 - acc: 0.9710 - val_loss: 0.1552 - val_acc: 0.9561\n",
      "Epoch 60/100\n",
      " - 1s - loss: 0.0986 - acc: 0.9715 - val_loss: 0.1551 - val_acc: 0.9561\n",
      "Epoch 61/100\n",
      " - 1s - loss: 0.0973 - acc: 0.9720 - val_loss: 0.1546 - val_acc: 0.9566\n",
      "Epoch 62/100\n",
      " - 1s - loss: 0.0959 - acc: 0.9724 - val_loss: 0.1542 - val_acc: 0.9571\n",
      "Epoch 63/100\n",
      " - 1s - loss: 0.0946 - acc: 0.9727 - val_loss: 0.1540 - val_acc: 0.9563\n",
      "Epoch 64/100\n",
      " - 1s - loss: 0.0934 - acc: 0.9729 - val_loss: 0.1533 - val_acc: 0.9572\n",
      "Epoch 65/100\n",
      " - 1s - loss: 0.0922 - acc: 0.9732 - val_loss: 0.1530 - val_acc: 0.9577\n",
      "Epoch 66/100\n",
      " - 1s - loss: 0.0910 - acc: 0.9736 - val_loss: 0.1523 - val_acc: 0.9584\n",
      "Epoch 67/100\n",
      " - 1s - loss: 0.0897 - acc: 0.9740 - val_loss: 0.1522 - val_acc: 0.9579\n",
      "Epoch 68/100\n",
      " - 1s - loss: 0.0886 - acc: 0.9744 - val_loss: 0.1522 - val_acc: 0.9578\n",
      "Epoch 69/100\n",
      " - 1s - loss: 0.0875 - acc: 0.9749 - val_loss: 0.1516 - val_acc: 0.9582\n",
      "Epoch 70/100\n",
      " - 1s - loss: 0.0863 - acc: 0.9751 - val_loss: 0.1512 - val_acc: 0.9588\n",
      "Epoch 71/100\n",
      " - 1s - loss: 0.0853 - acc: 0.9754 - val_loss: 0.1509 - val_acc: 0.9582\n",
      "Epoch 72/100\n",
      " - 1s - loss: 0.0841 - acc: 0.9760 - val_loss: 0.1508 - val_acc: 0.9587\n",
      "Epoch 73/100\n",
      " - 1s - loss: 0.0831 - acc: 0.9761 - val_loss: 0.1505 - val_acc: 0.9592\n",
      "Epoch 74/100\n",
      " - 1s - loss: 0.0820 - acc: 0.9765 - val_loss: 0.1501 - val_acc: 0.9587\n",
      "Epoch 75/100\n",
      " - 1s - loss: 0.0810 - acc: 0.9767 - val_loss: 0.1502 - val_acc: 0.9594\n",
      "Epoch 76/100\n",
      " - 1s - loss: 0.0800 - acc: 0.9771 - val_loss: 0.1500 - val_acc: 0.9594\n",
      "Epoch 77/100\n",
      " - 1s - loss: 0.0790 - acc: 0.9775 - val_loss: 0.1496 - val_acc: 0.9597\n",
      "Epoch 78/100\n",
      " - 1s - loss: 0.0780 - acc: 0.9776 - val_loss: 0.1496 - val_acc: 0.9588\n",
      "Epoch 79/100\n",
      " - 1s - loss: 0.0771 - acc: 0.9780 - val_loss: 0.1491 - val_acc: 0.9595\n",
      "Epoch 80/100\n",
      " - 1s - loss: 0.0761 - acc: 0.9784 - val_loss: 0.1486 - val_acc: 0.9601\n",
      "Epoch 81/100\n",
      " - 1s - loss: 0.0751 - acc: 0.9784 - val_loss: 0.1484 - val_acc: 0.9593\n",
      "Epoch 82/100\n",
      " - 1s - loss: 0.0742 - acc: 0.9790 - val_loss: 0.1488 - val_acc: 0.9600\n",
      "Epoch 83/100\n",
      " - 1s - loss: 0.0734 - acc: 0.9793 - val_loss: 0.1483 - val_acc: 0.9598\n",
      "Epoch 84/100\n",
      " - 1s - loss: 0.0725 - acc: 0.9796 - val_loss: 0.1487 - val_acc: 0.9599\n",
      "Epoch 85/100\n",
      " - 1s - loss: 0.0716 - acc: 0.9796 - val_loss: 0.1478 - val_acc: 0.9598\n",
      "Epoch 86/100\n",
      " - 1s - loss: 0.0707 - acc: 0.9802 - val_loss: 0.1482 - val_acc: 0.9599\n",
      "Epoch 87/100\n",
      " - 1s - loss: 0.0699 - acc: 0.9804 - val_loss: 0.1486 - val_acc: 0.9595\n",
      "Epoch 88/100\n",
      " - 1s - loss: 0.0691 - acc: 0.9807 - val_loss: 0.1483 - val_acc: 0.9602\n",
      "Epoch 89/100\n",
      " - 1s - loss: 0.0682 - acc: 0.9810 - val_loss: 0.1483 - val_acc: 0.9603\n",
      "Epoch 90/100\n",
      " - 1s - loss: 0.0674 - acc: 0.9813 - val_loss: 0.1480 - val_acc: 0.9601\n",
      "Epoch 91/100\n",
      " - 1s - loss: 0.0666 - acc: 0.9816 - val_loss: 0.1479 - val_acc: 0.9603\n",
      "Epoch 92/100\n",
      " - 1s - loss: 0.0658 - acc: 0.9821 - val_loss: 0.1474 - val_acc: 0.9603\n",
      "Epoch 93/100\n",
      " - 1s - loss: 0.0650 - acc: 0.9821 - val_loss: 0.1474 - val_acc: 0.9603\n",
      "Epoch 94/100\n",
      " - 1s - loss: 0.0642 - acc: 0.9825 - val_loss: 0.1482 - val_acc: 0.9607\n",
      "Epoch 95/100\n",
      " - 1s - loss: 0.0635 - acc: 0.9828 - val_loss: 0.1476 - val_acc: 0.9603\n",
      "Epoch 96/100\n",
      " - 1s - loss: 0.0627 - acc: 0.9832 - val_loss: 0.1477 - val_acc: 0.9600\n"
     ]
    },
    {
     "name": "stdout",
     "output_type": "stream",
     "text": [
      "Epoch 97/100\n",
      " - 1s - loss: 0.0620 - acc: 0.9834 - val_loss: 0.1472 - val_acc: 0.9606\n",
      "Epoch 98/100\n",
      " - 1s - loss: 0.0613 - acc: 0.9838 - val_loss: 0.1476 - val_acc: 0.9608\n",
      "Epoch 99/100\n",
      " - 1s - loss: 0.0605 - acc: 0.9841 - val_loss: 0.1476 - val_acc: 0.9599\n",
      "Epoch 100/100\n",
      " - 1s - loss: 0.0598 - acc: 0.9840 - val_loss: 0.1475 - val_acc: 0.9609\n",
      "Wall time: 1min 26s\n"
     ]
    },
    {
     "data": {
      "text/plain": [
       "<keras.callbacks.History at 0x1275dbadd68>"
      ]
     },
     "execution_count": 21,
     "metadata": {},
     "output_type": "execute_result"
    }
   ],
   "source": [
    "%%time\n",
    "model.fit(X_train_scaled, y_train, batch_size=200, epochs=100, \n",
    "          validation_split=0.2, callbacks=[early_stopping, tensorboard], verbose=2);"
   ]
  },
  {
   "cell_type": "markdown",
   "metadata": {},
   "source": [
    "C помощью Tensorboard удобно отслеживать процесс обучения нейронной сети. "
   ]
  },
  {
   "cell_type": "markdown",
   "metadata": {},
   "source": [
    "<img src='../img/tensorboard_mnist.png'>"
   ]
  },
  {
   "cell_type": "markdown",
   "metadata": {},
   "source": [
    "Оцениваем качество обучения сети на тестовых данных"
   ]
  },
  {
   "cell_type": "code",
   "execution_count": 22,
   "metadata": {},
   "outputs": [
    {
     "name": "stdout",
     "output_type": "stream",
     "text": [
      "Доля верных ответов на тестовых данных: 96.07%\n"
     ]
    }
   ],
   "source": [
    "scores = model.evaluate(X_test_scaled, y_test, verbose=0)\n",
    "print(\"Доля верных ответов на тестовых данных: %.2f%%\" % (scores[1]*100))"
   ]
  },
  {
   "cell_type": "markdown",
   "metadata": {},
   "source": [
    "## Сохраняем сеть\n",
    "**Архитектуру – в JSON-файл**"
   ]
  },
  {
   "cell_type": "code",
   "execution_count": 23,
   "metadata": {},
   "outputs": [],
   "source": [
    "model_json = model.to_json()\n",
    "with open(\"mnist_model.json\", \"w\") as json_file:\n",
    "    json_file.write(model_json)"
   ]
  },
  {
   "cell_type": "code",
   "execution_count": 24,
   "metadata": {},
   "outputs": [],
   "source": [
    "import pprint\n",
    "import json"
   ]
  },
  {
   "cell_type": "code",
   "execution_count": 25,
   "metadata": {},
   "outputs": [
    {
     "name": "stdout",
     "output_type": "stream",
     "text": [
      "{'backend': 'tensorflow',\n",
      " 'class_name': 'Sequential',\n",
      " 'config': {'layers': [{'class_name': 'Dense',\n",
      "                        'config': {'activation': 'relu',\n",
      "                                   'activity_regularizer': None,\n",
      "                                   'batch_input_shape': [None, 784],\n",
      "                                   'bias_constraint': None,\n",
      "                                   'bias_initializer': {'class_name': 'Zeros',\n",
      "                                                        'config': {}},\n",
      "                                   'bias_regularizer': None,\n",
      "                                   'dtype': 'float32',\n",
      "                                   'kernel_constraint': None,\n",
      "                                   'kernel_initializer': {'class_name': 'RandomNormal',\n",
      "                                                          'config': {'mean': 0.0,\n",
      "                                                                     'seed': None,\n",
      "                                                                     'stddev': 0.05}},\n",
      "                                   'kernel_regularizer': None,\n",
      "                                   'name': 'dense_1',\n",
      "                                   'trainable': True,\n",
      "                                   'units': 50,\n",
      "                                   'use_bias': True}},\n",
      "                       {'class_name': 'Dense',\n",
      "                        'config': {'activation': 'relu',\n",
      "                                   'activity_regularizer': None,\n",
      "                                   'batch_input_shape': [None, 50],\n",
      "                                   'bias_constraint': None,\n",
      "                                   'bias_initializer': {'class_name': 'Zeros',\n",
      "                                                        'config': {}},\n",
      "                                   'bias_regularizer': None,\n",
      "                                   'dtype': 'float32',\n",
      "                                   'kernel_constraint': None,\n",
      "                                   'kernel_initializer': {'class_name': 'RandomNormal',\n",
      "                                                          'config': {'mean': 0.0,\n",
      "                                                                     'seed': None,\n",
      "                                                                     'stddev': 0.05}},\n",
      "                                   'kernel_regularizer': None,\n",
      "                                   'name': 'dense_2',\n",
      "                                   'trainable': True,\n",
      "                                   'units': 20,\n",
      "                                   'use_bias': True}},\n",
      "                       {'class_name': 'Dense',\n",
      "                        'config': {'activation': 'softmax',\n",
      "                                   'activity_regularizer': None,\n",
      "                                   'bias_constraint': None,\n",
      "                                   'bias_initializer': {'class_name': 'Zeros',\n",
      "                                                        'config': {}},\n",
      "                                   'bias_regularizer': None,\n",
      "                                   'kernel_constraint': None,\n",
      "                                   'kernel_initializer': {'class_name': 'RandomNormal',\n",
      "                                                          'config': {'mean': 0.0,\n",
      "                                                                     'seed': None,\n",
      "                                                                     'stddev': 0.05}},\n",
      "                                   'kernel_regularizer': None,\n",
      "                                   'name': 'dense_3',\n",
      "                                   'trainable': True,\n",
      "                                   'units': 10,\n",
      "                                   'use_bias': True}}],\n",
      "            'name': 'sequential_1'},\n",
      " 'keras_version': '2.2.4'}\n"
     ]
    }
   ],
   "source": [
    "with open(\"mnist_model.json\", \"r\") as json_file:\n",
    "    pprint.pprint(json.loads(json_file.read()))"
   ]
  },
  {
   "cell_type": "markdown",
   "metadata": {},
   "source": [
    "**Веса сохраняем в бинарный hd5-файл**"
   ]
  },
  {
   "cell_type": "code",
   "execution_count": 26,
   "metadata": {},
   "outputs": [],
   "source": [
    "model.save_weights(\"mnist_model.h5\")"
   ]
  },
  {
   "cell_type": "markdown",
   "metadata": {},
   "source": [
    "**Теперь сеть можно восстановить и использовать**"
   ]
  },
  {
   "cell_type": "code",
   "execution_count": 27,
   "metadata": {},
   "outputs": [],
   "source": [
    "from keras.models import model_from_json\n",
    "\n",
    "with open(\"mnist_model.json\") as json_file:\n",
    "    loaded_model_json = json_file.read()\n",
    "\n",
    "# Создаем модель на основе загруженных данных\n",
    "loaded_model = model_from_json(loaded_model_json)\n",
    "# Загружаем веса в модель\n",
    "loaded_model.load_weights(\"mnist_model.h5\")"
   ]
  },
  {
   "cell_type": "markdown",
   "metadata": {},
   "source": [
    "Перед использованием модели ее обязательно нужно скомпилировать. "
   ]
  },
  {
   "cell_type": "code",
   "execution_count": 28,
   "metadata": {},
   "outputs": [],
   "source": [
    "model.compile(loss='categorical_crossentropy', optimizer='SGD', metrics=['accuracy'])"
   ]
  },
  {
   "cell_type": "code",
   "execution_count": 29,
   "metadata": {},
   "outputs": [
    {
     "name": "stdout",
     "output_type": "stream",
     "text": [
      "Доля верных ответов на тестовых данных: 96.07%\n"
     ]
    }
   ],
   "source": [
    "scores = model.evaluate(X_test_scaled, y_test, verbose=0)\n",
    "print(\"Доля верных ответов на тестовых данных: %.2f%%\" % (scores[1]*100))"
   ]
  },
  {
   "cell_type": "code",
   "execution_count": 30,
   "metadata": {},
   "outputs": [
    {
     "data": {
      "text/plain": [
       "784"
      ]
     },
     "execution_count": 30,
     "metadata": {},
     "output_type": "execute_result"
    }
   ],
   "source": [
    "X_test_scaled[1].size"
   ]
  },
  {
   "cell_type": "code",
   "execution_count": 31,
   "metadata": {},
   "outputs": [],
   "source": [
    "import matplotlib.pyplot as plt, matplotlib.image as mpimg\n"
   ]
  },
  {
   "cell_type": "code",
   "execution_count": 105,
   "metadata": {},
   "outputs": [
    {
     "name": "stdout",
     "output_type": "stream",
     "text": [
      "predicted value:  4\n"
     ]
    },
    {
     "data": {
      "image/png": "[encoded data removed]",
      "text/plain": [
       "<Figure size 432x288 with 1 Axes>"
      ]
     },
     "metadata": {},
     "output_type": "display_data"
    }
   ],
   "source": [
    "idx = 287\n",
    "img=X_test[idx].reshape((28,28))\n",
    "plt.imshow(img,cmap='binary')\n",
    "print (\"predicted value: \", model.predict(x= np.array([X_test_scaled[idx]])).argmax())"
   ]
  },
  {
   "cell_type": "code",
   "execution_count": 33,
   "metadata": {},
   "outputs": [
    {
     "data": {
      "text/plain": [
       "2"
      ]
     },
     "execution_count": 33,
     "metadata": {},
     "output_type": "execute_result"
    }
   ],
   "source": [
    "model.predict(x= np.array([X_test[1]])).argmax()"
   ]
  },
  {
   "cell_type": "code",
   "execution_count": 41,
   "metadata": {},
   "outputs": [],
   "source": [
    "def addSaltPepperNoise(img, percent):\n",
    "    img = img.reshape((28, 28))\n",
    "    row,col = img.shape\n",
    "    s_vs_p = 0.5\n",
    "    amount = percent\n",
    "    out = np.copy(img)\n",
    "    # Salt mode\n",
    "    num_salt = np.ceil(amount * img.size * s_vs_p)\n",
    "    coords = [np.random.randint(0, i - 1, int(num_salt))\n",
    "          for i in img.shape]\n",
    "    out[coords] = 255\n",
    "\n",
    "    # Pepper mode\n",
    "    num_pepper = np.ceil(amount* img.size * (1. - s_vs_p))\n",
    "    coords = [np.random.randint(0, i - 1, int(num_pepper))\n",
    "          for i in img.shape]\n",
    "    out[coords] = 0\n",
    "    out = out.reshape(28*28)\n",
    "    return out"
   ]
  },
  {
   "cell_type": "code",
   "execution_count": 43,
   "metadata": {},
   "outputs": [
    {
     "data": {
      "text/plain": [
       "<matplotlib.image.AxesImage at 0x12706c96470>"
      ]
     },
     "execution_count": 43,
     "metadata": {},
     "output_type": "execute_result"
    },
    {
     "data": {
      "image/png": "[encoded data removed]",
      "text/plain": [
       "<Figure size 432x288 with 1 Axes>"
      ]
     },
     "metadata": {},
     "output_type": "display_data"
    }
   ],
   "source": [
    "plt.imshow(addSaltPepperNoise(X_test[2], 0.2).reshape(28,28),cmap='binary')"
   ]
  },
  {
   "cell_type": "code",
   "execution_count": 40,
   "metadata": {},
   "outputs": [],
   "source": [
    "def addGaussianNoise(img, percent):\n",
    "    img = img.reshape((28,28))\n",
    "    row,col= img.shape\n",
    "    mean = 128\n",
    "    var = 128\n",
    "    sigma = var**percent\n",
    "    gauss = np.random.normal(mean,sigma,(row,col))\n",
    "    gauss = gauss.reshape(row,col)\n",
    "    noisy = img + gauss\n",
    "    noisy = noisy.reshape(28*28)\n",
    "    return noisy;"
   ]
  },
  {
   "cell_type": "code",
   "execution_count": 106,
   "metadata": {},
   "outputs": [
    {
     "data": {
      "text/plain": [
       "<matplotlib.image.AxesImage at 0x1275fb1bcc0>"
      ]
     },
     "execution_count": 106,
     "metadata": {},
     "output_type": "execute_result"
    },
    {
     "data": {
      "image/png": "[encoded data removed]",
      "text/plain": [
       "<Figure size 432x288 with 1 Axes>"
      ]
     },
     "metadata": {},
     "output_type": "display_data"
    }
   ],
   "source": [
    "plt.imshow(addGaussianNoise(X_test[1], 0.5).reshape(28,28),cmap='binary')"
   ]
  },
  {
   "cell_type": "code",
   "execution_count": 157,
   "metadata": {},
   "outputs": [],
   "source": [
    "add_gauss_noise_to_all = lambda images, percent: [addGaussianNoise(img, percent) for img in images]\n",
    "X_test_noisy_gauss = {i: add_gauss_noise_to_all(X_test, i) for i in [0.1, 0.2, 0.3, 0.4, 0.5, 0.6, 0.7, 0.8, 0.9, 1]}"
   ]
  },
  {
   "cell_type": "code",
   "execution_count": 158,
   "metadata": {},
   "outputs": [],
   "source": [
    "add_sp_noise_to_all = lambda images, percent: [addSaltPepperNoise(img, percent) for img in images]\n",
    "X_test_noisy_sp = {i: add_sp_noise_to_all(X_test, i) for i in [0.1, 0.2, 0.3, 0.4, 0.5, 0.6, 0.7, 0.8, 0.9, 1]}"
   ]
  },
  {
   "cell_type": "code",
   "execution_count": 159,
   "metadata": {
    "scrolled": true
   },
   "outputs": [
    {
     "data": {
      "text/plain": [
       "<matplotlib.image.AxesImage at 0x1273fac56d8>"
      ]
     },
     "execution_count": 159,
     "metadata": {},
     "output_type": "execute_result"
    },
    {
     "data": {
      "image/png": "[encoded data removed]",
      "text/plain": [
       "<Figure size 432x288 with 1 Axes>"
      ]
     },
     "metadata": {},
     "output_type": "display_data"
    }
   ],
   "source": [
    "plt.imshow(X_test_noisy_sp[0.1][1].reshape(28,28), cmap='binary')"
   ]
  },
  {
   "cell_type": "code",
   "execution_count": 160,
   "metadata": {
    "scrolled": true
   },
   "outputs": [
    {
     "name": "stdout",
     "output_type": "stream",
     "text": [
      "predicted value:  2\n"
     ]
    }
   ],
   "source": [
    "print (\"predicted value: \", model.predict(x= np.array([X_test_noisy_sp[0.1][1]])).argmax())"
   ]
  },
  {
   "cell_type": "code",
   "execution_count": 168,
   "metadata": {},
   "outputs": [
    {
     "data": {
      "text/plain": [
       "list"
      ]
     },
     "execution_count": 168,
     "metadata": {},
     "output_type": "execute_result"
    }
   ],
   "source": []
  },
  {
   "cell_type": "code",
   "execution_count": 169,
   "metadata": {},
   "outputs": [],
   "source": [
    "X_test_noisy_gauss_np = {key: np.empty_like(X_test_noisy_gauss[0.1]) for key in X_test_noisy_gauss.keys()}"
   ]
  },
  {
   "cell_type": "code",
   "execution_count": 170,
   "metadata": {},
   "outputs": [
    {
     "data": {
      "text/plain": [
       "numpy.ndarray"
      ]
     },
     "execution_count": 170,
     "metadata": {},
     "output_type": "execute_result"
    }
   ],
   "source": [
    "type(X_test_noisy_gauss_np[0.1])"
   ]
  },
  {
   "cell_type": "code",
   "execution_count": 172,
   "metadata": {},
   "outputs": [],
   "source": [
    "X_test_noisy_gauss_np = {key: np.empty_like(X_test_noisy_gauss[0.1]) for key in X_test_noisy_gauss.keys()}\n",
    "\n",
    "for key in X_test_noisy_gauss.keys():\n",
    "    X_test_noisy_gauss_np[key] = np.array(X_test_noisy_gauss[key])"
   ]
  },
  {
   "cell_type": "code",
   "execution_count": 178,
   "metadata": {
    "scrolled": false
   },
   "outputs": [],
   "source": [
    "X_test_noisy_sp_np = {key: np.empty_like(X_test_noisy_sp[0.1]) for key in X_test_noisy_sp.keys()}\n",
    "\n",
    "for key in X_test_noisy_sp.keys():\n",
    "    X_test_noisy_sp_np[key] = np.array(X_test_noisy_sp[key])"
   ]
  },
  {
   "cell_type": "code",
   "execution_count": 173,
   "metadata": {},
   "outputs": [
    {
     "data": {
      "text/plain": [
       "<matplotlib.image.AxesImage at 0x127518cd710>"
      ]
     },
     "execution_count": 173,
     "metadata": {},
     "output_type": "execute_result"
    },
    {
     "data": {
      "image/png": "[encoded data removed]",
      "text/plain": [
       "<Figure size 432x288 with 1 Axes>"
      ]
     },
     "metadata": {},
     "output_type": "display_data"
    }
   ],
   "source": [
    "plt.imshow(X_test_noisy_gauss_np[0.9][10].reshape(28,28), cmap='binary')"
   ]
  },
  {
   "cell_type": "code",
   "execution_count": 176,
   "metadata": {},
   "outputs": [],
   "source": [
    "scores_noise_gauss = {key : model.evaluate(X_test_noisy_gauss_np[key], y_test, verbose=0) for key in X_test_noisy_gauss_np.keys()}"
   ]
  },
  {
   "cell_type": "code",
   "execution_count": 141,
   "metadata": {},
   "outputs": [
    {
     "data": {
      "text/plain": [
       "numpy.ndarray"
      ]
     },
     "execution_count": 141,
     "metadata": {},
     "output_type": "execute_result"
    }
   ],
   "source": [
    "type(X_test_scaled)"
   ]
  },
  {
   "cell_type": "code",
   "execution_count": 179,
   "metadata": {},
   "outputs": [],
   "source": [
    "scores_noise_sp = {key : model.evaluate(X_test_noisy_sp_np[key], y_test, verbose=0) for key in X_test_noisy_sp_np.keys()}"
   ]
  },
  {
   "cell_type": "code",
   "execution_count": 177,
   "metadata": {},
   "outputs": [
    {
     "data": {
      "text/plain": [
       "[<matplotlib.lines.Line2D at 0x127519b2a90>]"
      ]
     },
     "execution_count": 177,
     "metadata": {},
     "output_type": "execute_result"
    },
    {
     "data": {
      "image/png": "[encoded data removed]",
      "text/plain": [
       "<Figure size 432x288 with 1 Axes>"
      ]
     },
     "metadata": {},
     "output_type": "display_data"
    }
   ],
   "source": [
    "scores_gauss = [scores_noise_gauss[key][1] for key in scores_noise_gauss.keys()]\n",
    "plt.plot(scores_noise_gauss.keys(), scores_gauss)"
   ]
  },
  {
   "cell_type": "code",
   "execution_count": 181,
   "metadata": {},
   "outputs": [
    {
     "data": {
      "text/plain": [
       "[<matplotlib.lines.Line2D at 0x12741bb4c50>]"
      ]
     },
     "execution_count": 181,
     "metadata": {},
     "output_type": "execute_result"
    },
    {
     "data": {
      "image/png": "[encoded data removed]",
      "text/plain": [
       "<Figure size 432x288 with 1 Axes>"
      ]
     },
     "metadata": {},
     "output_type": "display_data"
    }
   ],
   "source": [
    "scores_sp = [scores_noise_sp[key][1] for key in scores_noise_sp.keys()]\n",
    "plt.plot(scores_noise_sp.keys(), scores_sp)"
   ]
  }
 ],
 "metadata": {
  "kernelspec": {
   "display_name": "Python 3",
   "language": "python",
   "name": "python3"
  }
 },
 "nbformat": 4,
 "nbformat_minor": 2
}
